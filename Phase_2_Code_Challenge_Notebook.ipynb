{
  "cells": [
    {
      "cell_type": "markdown",
      "metadata": {
        "id": "view-in-github",
        "colab_type": "text"
      },
      "source": [
        "<a href=\"https://colab.research.google.com/github/cycywanyeki20/Movies-Phase1-Project/blob/master/Phase_2_Code_Challenge_Notebook.ipynb\" target=\"_parent\"><img src=\"https://colab.research.google.com/assets/colab-badge.svg\" alt=\"Open In Colab\"/></a>"
      ]
    },
    {
      "cell_type": "markdown",
      "metadata": {
        "deletable": false,
        "editable": false,
        "nbgrader": {
          "cell_type": "markdown",
          "checksum": "2e899ab3ceb031d30f9e98588a7834a5",
          "grade": false,
          "grade_id": "cell-406d340d7286364c",
          "locked": true,
          "schema_version": 3,
          "solution": false,
          "task": false
        },
        "id": "QeXvXqtGvuti"
      },
      "source": [
        "# Phase 2 Code Challenge\n",
        "\n",
        "This code challenge is designed to test your understanding of the Phase 2 material. It covers:\n",
        "\n",
        "- Normal Distribution\n",
        "- Statistical Tests\n",
        "- Bayesian Statistics\n",
        "- Linear Regression\n",
        "\n",
        "_Read the instructions carefully_. You will be asked both to write code and to answer short answer questions.\n",
        "\n",
        "## Code Tests\n",
        "\n",
        "We have provided some code tests for you to run to check that your work meets the item specifications. Passing these tests does not necessarily mean that you have gotten the item correct - there are additional hidden tests. However, if any of the tests do not pass, this tells you that your code is incorrect and needs changes to meet the specification. To determine what the issue is, read the comments in the code test cells, the error message you receive, and the item instructions.\n",
        "\n",
        "## Short Answer Questions\n",
        "\n",
        "For the short answer questions...\n",
        "\n",
        "* _Use your own words_. It is OK to refer to outside resources when crafting your response, but _do not copy text from another source_.\n",
        "\n",
        "* _Communicate clearly_. We are not grading your writing skills, but you can only receive full credit if your teacher is able to fully understand your response.\n",
        "\n",
        "* _Be concise_. You should be able to answer most short answer questions in a sentence or two. Writing unnecessarily long answers increases the risk of you being unclear or saying something incorrect."
      ]
    },
    {
      "cell_type": "code",
      "execution_count": 50,
      "metadata": {
        "deletable": false,
        "editable": false,
        "nbgrader": {
          "cell_type": "code",
          "checksum": "2f10745d7f7c2557bc76f7221425820f",
          "grade": false,
          "grade_id": "cell-d04c1470087d31aa",
          "locked": true,
          "schema_version": 3,
          "solution": false,
          "task": false
        },
        "id": "P4-iugFEvutn"
      },
      "outputs": [],
      "source": [
        "# Run this cell without changes to import the necessary libraries\n",
        "\n",
        "import itertools\n",
        "import numpy as np\n",
        "import pandas as pd\n",
        "from numbers import Number\n",
        "from scipy import stats\n",
        "import matplotlib.pyplot as plt\n",
        "import seaborn as sns\n",
        "%matplotlib inline\n",
        "\n",
        "import pickle"
      ]
    },
    {
      "cell_type": "markdown",
      "metadata": {
        "id": "_McUKh1-vutp"
      },
      "source": [
        "---\n",
        "## Part 1: Normal Distribution [Suggested time: 20 minutes]\n",
        "---\n",
        "In this part, you will analyze check totals at a TexMex restaurant. We know that the population distribution of check totals for the TexMex restaurant is normally distributed with a mean of \\\\$20 and a standard deviation of \\\\$3."
      ]
    },
    {
      "cell_type": "markdown",
      "metadata": {
        "deletable": false,
        "editable": false,
        "nbgrader": {
          "cell_type": "markdown",
          "checksum": "293520be5095ed31ee986d5f8cc8de84",
          "grade": false,
          "grade_id": "cell-46b6b6254aeeff59",
          "locked": true,
          "schema_version": 3,
          "solution": false,
          "task": false
        },
        "id": "eiFSUlRUvutp"
      },
      "source": [
        "### 1.1) Create a numeric variable `z_score_26` containing the z-score for a \\\\$26 check."
      ]
    },
    {
      "cell_type": "markdown",
      "metadata": {
        "deletable": false,
        "editable": false,
        "nbgrader": {
          "cell_type": "markdown",
          "checksum": "472b18b81d666032fc9cc93650a3fd66",
          "grade": false,
          "grade_id": "cell-ef9660b9613a17a4",
          "locked": true,
          "schema_version": 3,
          "solution": false,
          "task": false
        },
        "id": "bx2D8ZXUvutq"
      },
      "source": [
        "**Starter Code**\n",
        "\n",
        "    z_score_26 ="
      ]
    },
    {
      "cell_type": "code",
      "execution_count": 51,
      "metadata": {
        "deletable": false,
        "nbgrader": {
          "cell_type": "code",
          "checksum": "9912b64158ba28ed745f6c8e8b174bb9",
          "grade": false,
          "grade_id": "cell-b947773fd0a27e5d",
          "locked": false,
          "schema_version": 3,
          "solution": true,
          "task": false
        },
        "colab": {
          "base_uri": "https://localhost:8080/"
        },
        "id": "ppAxaCrkvutq",
        "outputId": "38f9d188-8c0e-4a39-c042-972262979371"
      },
      "outputs": [
        {
          "output_type": "stream",
          "name": "stdout",
          "text": [
            "2.0\n"
          ]
        }
      ],
      "source": [
        "# YOUR CODE HERE\n",
        "#raise NotImplementedError()\n",
        "X = 26  # The value to standardize\n",
        "mean = 20  # Mean of the population distribution\n",
        "std_dev = 3  # Standard deviation of the population distribution\n",
        "\n",
        "# Calculate the z-score\n",
        "z_score_26 = (X - mean) / std_dev\n",
        "\n",
        "# Print the z-score\n",
        "print(z_score_26)"
      ]
    },
    {
      "cell_type": "code",
      "execution_count": 52,
      "metadata": {
        "deletable": false,
        "editable": false,
        "nbgrader": {
          "cell_type": "code",
          "checksum": "7e9d5f2e8a5e557223708b9ca75aa98e",
          "grade": true,
          "grade_id": "cell-a72f04fffcbada78",
          "locked": true,
          "points": 1,
          "schema_version": 3,
          "solution": false,
          "task": false
        },
        "id": "_4j6gmNFvutr"
      },
      "outputs": [],
      "source": [
        "# This test confirms that you have created a numeric variable named z_score_26\n",
        "\n",
        "assert isinstance(z_score_26, Number)\n"
      ]
    },
    {
      "cell_type": "markdown",
      "metadata": {
        "deletable": false,
        "editable": false,
        "nbgrader": {
          "cell_type": "markdown",
          "checksum": "bd4be1900a2f0b77b1704d7e5ac1926b",
          "grade": false,
          "grade_id": "cell-42d5460165295bb7",
          "locked": true,
          "schema_version": 3,
          "solution": false,
          "task": false
        },
        "id": "LlSMKmxKvuts"
      },
      "source": [
        "### 1.2) Create a numeric variable `p_under_26` containing the approximate proportion of all checks that are less than \\\\$26.\n",
        "\n",
        "Hint: Use the answer from the previous question along with the empirical rule, a Python function, or this [z-table](https://www.math.arizona.edu/~rsims/ma464/standardnormaltable.pdf)."
      ]
    },
    {
      "cell_type": "markdown",
      "metadata": {
        "deletable": false,
        "editable": false,
        "nbgrader": {
          "cell_type": "markdown",
          "checksum": "8109c6472c75cae09e71929b8c453b3e",
          "grade": false,
          "grade_id": "cell-999dca2e2a1e09ba",
          "locked": true,
          "schema_version": 3,
          "solution": false,
          "task": false
        },
        "id": "cW3SM5rjvutt"
      },
      "source": [
        "**Starter Code**\n",
        "\n",
        "    p_under_26 ="
      ]
    },
    {
      "cell_type": "code",
      "execution_count": 53,
      "metadata": {
        "deletable": false,
        "nbgrader": {
          "cell_type": "code",
          "checksum": "0405c61a0d4286b7d4293bd11a3d3f06",
          "grade": false,
          "grade_id": "cell-a223448d6f75a998",
          "locked": false,
          "schema_version": 3,
          "solution": true,
          "task": false
        },
        "colab": {
          "base_uri": "https://localhost:8080/"
        },
        "id": "kMyPwv6hvutu",
        "outputId": "e05b7a88-c107-4b9c-e349-7847efd0a022"
      },
      "outputs": [
        {
          "output_type": "stream",
          "name": "stdout",
          "text": [
            "0.9772498680518208\n"
          ]
        }
      ],
      "source": [
        "# YOUR CODE HERE\n",
        "#raise NotImplementedError()\n",
        "import scipy.stats as stats\n",
        "\n",
        "# Define the z-score calculated in the above question\n",
        "z_score_26 = 2.0\n",
        "\n",
        "# Calculate the approximate proportion of checks less than $26\n",
        "p_under_26 = stats.norm.cdf(z_score_26)\n",
        "\n",
        "# Print the result\n",
        "print( p_under_26) # The approximation of checks under $26."
      ]
    },
    {
      "cell_type": "markdown",
      "source": [
        "we use the stats.norm.cdf(z_score_26) function to calculate the cumulative distribution function of the standard normal distribution, which gives us the proportion of checks less than $26. replace z_score_26 with 2."
      ],
      "metadata": {
        "id": "6yB6pSnO0VD_"
      }
    },
    {
      "cell_type": "code",
      "execution_count": 54,
      "metadata": {
        "deletable": false,
        "editable": false,
        "nbgrader": {
          "cell_type": "code",
          "checksum": "e38a6504951cce5044ccc9813814f3ce",
          "grade": true,
          "grade_id": "cell-626d2e6dea5a86ac",
          "locked": true,
          "points": 1,
          "schema_version": 3,
          "solution": false,
          "task": false
        },
        "id": "v63RhFpyvutu"
      },
      "outputs": [],
      "source": [
        "# This test confirms that you have created a numeric variable named p_under_26\n",
        "\n",
        "assert isinstance(p_under_26, Number)\n",
        "\n",
        "# These tests confirm that p_under_26 is a value between 0 and 1\n",
        "\n",
        "assert p_under_26 >= 0\n",
        "assert p_under_26 <= 1\n"
      ]
    },
    {
      "cell_type": "markdown",
      "metadata": {
        "deletable": false,
        "editable": false,
        "nbgrader": {
          "cell_type": "markdown",
          "checksum": "591067efa5a67d68e9496a9687c16b35",
          "grade": false,
          "grade_id": "cell-b20994e953b823df",
          "locked": true,
          "schema_version": 3,
          "solution": false,
          "task": false
        },
        "id": "szadSTCXvutv"
      },
      "source": [
        "### 1.3) Create numeric variables `conf_low` and `conf_high` containing the lower and upper bounds (respectively) of a 95% confidence interval for the mean of one waiter's check amounts using the information below.\n",
        "\n",
        "One week, a waiter gets 100 checks with a mean of \\\\$19 and a standard deviation of \\\\$3."
      ]
    },
    {
      "cell_type": "markdown",
      "metadata": {
        "deletable": false,
        "editable": false,
        "nbgrader": {
          "cell_type": "markdown",
          "checksum": "5d5e3fb5066b84c6c0380e778ed888c5",
          "grade": false,
          "grade_id": "cell-a4925898f2c5bfb5",
          "locked": true,
          "schema_version": 3,
          "solution": false,
          "task": false
        },
        "id": "HfIAjbdRvutv"
      },
      "source": [
        "**Starter Code**\n",
        "\n",
        "    n = 100\n",
        "    mean = 19\n",
        "    std = 3\n",
        "    \n",
        "    conf_low =\n",
        "    conf_high ="
      ]
    },
    {
      "cell_type": "code",
      "execution_count": 55,
      "metadata": {
        "deletable": false,
        "nbgrader": {
          "cell_type": "code",
          "checksum": "72d2d82f36582251865888f3cf0535dd",
          "grade": false,
          "grade_id": "cell-fb0a963f092cb64d",
          "locked": false,
          "schema_version": 3,
          "solution": true,
          "task": false
        },
        "colab": {
          "base_uri": "https://localhost:8080/"
        },
        "id": "UFWKsea1vutv",
        "outputId": "f75abaea-8b59-4a41-fde4-0ee1a7f63da2"
      },
      "outputs": [
        {
          "output_type": "stream",
          "name": "stdout",
          "text": [
            "18.412\n",
            "19.588\n"
          ]
        }
      ],
      "source": [
        "# YOUR CODE HERE\n",
        "#raise NotImplementedError()\n",
        "n = 100\n",
        "mean = 19\n",
        "std = 3\n",
        "confidence_level = 0.95  # 95% confidence level\n",
        "z_score = 1.96  # Z-Score for a 95% confidence interval is typically 1.96 in z-score table\n",
        "\n",
        "# Calculate the standard error\n",
        "standard_error = std / (n ** 0.5)\n",
        "#std: The standard deviation of the sample.\n",
        "#n: The sample size.\n",
        "#n ** 0.5: The square root of the sample size.\n",
        "\n",
        "# Calculate the margin of error\n",
        "error_margin = z_score * standard_error\n",
        "\n",
        "# Calculate the lower and upper bounds of the confidence interval\n",
        "conf_low = mean - error_margin\n",
        "conf_high = mean + error_margin\n",
        "\n",
        "# Print the results\n",
        "print(conf_low) #Lower bound of 95% confidence interval\n",
        "print(conf_high) #Upper bound of 95% confidence interval\n",
        "\n"
      ]
    },
    {
      "cell_type": "markdown",
      "source": [
        "To calculate the Z-Score for a 95% confidence interval, you'll use the Z-Score associated with a 95% confidence level, which is typically 1.96."
      ],
      "metadata": {
        "id": "A65WPE9z1CGq"
      }
    },
    {
      "cell_type": "code",
      "execution_count": 56,
      "metadata": {
        "deletable": false,
        "editable": false,
        "nbgrader": {
          "cell_type": "code",
          "checksum": "73bf4a89139efcc1aa62b0071d2a0501",
          "grade": true,
          "grade_id": "cell-d995ba92d5f4f1f3",
          "locked": true,
          "points": 1,
          "schema_version": 3,
          "solution": false,
          "task": false
        },
        "colab": {
          "base_uri": "https://localhost:8080/"
        },
        "id": "ew_LGiNRvutv",
        "outputId": "338beacb-5bfa-4053-dcd9-2c1387b5055b"
      },
      "outputs": [
        {
          "output_type": "stream",
          "name": "stdout",
          "text": [
            "The lower bound of the 95% confidence interval is 18.412\n",
            "The upper bound of the 95% confidence interval is 19.588\n"
          ]
        }
      ],
      "source": [
        "# These tests confirm that you have created numeric variables named conf_low and conf_high\n",
        "\n",
        "assert isinstance(conf_low, Number)\n",
        "assert isinstance(conf_high, Number)\n",
        "\n",
        "# This test confirms that conf_low is below conf_high\n",
        "\n",
        "assert conf_low < conf_high\n",
        "\n",
        "# These statements print your answers for reference to help answer the next question\n",
        "\n",
        "print('The lower bound of the 95% confidence interval is {}'.format(conf_low))\n",
        "print('The upper bound of the 95% confidence interval is {}'.format(conf_high))\n"
      ]
    },
    {
      "cell_type": "markdown",
      "metadata": {
        "deletable": false,
        "editable": false,
        "nbgrader": {
          "cell_type": "markdown",
          "checksum": "9fc7324cd1d52fcdb9aaf9fcf580071d",
          "grade": false,
          "grade_id": "cell-fb9ed0f70c9bd8de",
          "locked": true,
          "schema_version": 3,
          "solution": false,
          "task": false
        },
        "id": "RWaYyCa0vutw"
      },
      "source": [
        "### 1.4) Short Answer: Interpret the 95% confidence interval you just calculated in Question 1.3."
      ]
    },
    {
      "cell_type": "markdown",
      "metadata": {
        "deletable": false,
        "nbgrader": {
          "cell_type": "markdown",
          "checksum": "009c3644b9cd34be8aa776702fa0a166",
          "grade": true,
          "grade_id": "cell-8212712ac7485fa9",
          "locked": false,
          "points": 1,
          "schema_version": 3,
          "solution": true,
          "task": false
        },
        "id": "Mspx7XwEvutw"
      },
      "source": [
        "The 95% interval means that we are 95% confident that the true mean of one waiter's check amounts at the restaurant falls between this range of $ 18.41 and $ 19. 59 dollars"
      ]
    },
    {
      "cell_type": "markdown",
      "metadata": {
        "deletable": false,
        "editable": false,
        "nbgrader": {
          "cell_type": "markdown",
          "checksum": "b36b4420dbafde7c4fb28c5818e24435",
          "grade": false,
          "grade_id": "cell-782ab283e22ce5ae",
          "locked": true,
          "schema_version": 3,
          "solution": false,
          "task": false
        },
        "id": "v3EPuurOvutw"
      },
      "source": [
        "---\n",
        "## Part 2: Statistical Testing [Suggested time: 20 minutes]\n",
        "---\n",
        "The TexMex restaurant recently introduced queso to its menu.\n",
        "\n",
        "We have a random sample containing 2000 check totals, all from different customers: 1000 check totals for orders without queso (\"no queso\") and 1000 check totals for orders with queso (\"queso\").\n",
        "\n",
        "In the cell below, we load the sample data for you into the arrays `no_queso` and `queso` for the \"no queso\" and \"queso\" order check totals, respectively."
      ]
    },
    {
      "cell_type": "code",
      "execution_count": 57,
      "metadata": {
        "deletable": false,
        "editable": false,
        "nbgrader": {
          "cell_type": "code",
          "checksum": "5eb54e2799f823e8d5f719d2fffa5437",
          "grade": false,
          "grade_id": "cell-fdba1826c45c244d",
          "locked": true,
          "schema_version": 3,
          "solution": false,
          "task": false
        },
        "id": "m6F6fgbcvutw"
      },
      "outputs": [],
      "source": [
        "# Run this cell without changes\n",
        "\n",
        "# Load the sample data\n",
        "no_queso = pickle.load(open('./no_queso.pkl', 'rb'))\n",
        "queso = pickle.load(open('./queso.pkl', 'rb'))"
      ]
    },
    {
      "cell_type": "markdown",
      "metadata": {
        "deletable": false,
        "editable": false,
        "nbgrader": {
          "cell_type": "markdown",
          "checksum": "f6c45a516db19e67cc6c2af5ad8de3a8",
          "grade": false,
          "grade_id": "cell-05f7dc82e438a77f",
          "locked": true,
          "schema_version": 3,
          "solution": false,
          "task": false
        },
        "id": "-fdIr-tyvutw"
      },
      "source": [
        "### 2.1) Short Answer: State null and alternative hypotheses to use for testing whether customers who order queso spend different amounts of money from customers who do not order queso."
      ]
    },
    {
      "cell_type": "markdown",
      "metadata": {
        "deletable": false,
        "nbgrader": {
          "cell_type": "markdown",
          "checksum": "94c3f76910993c7e9b447b61376fd65a",
          "grade": true,
          "grade_id": "cell-1992605f4c2b8751",
          "locked": false,
          "points": 1,
          "schema_version": 3,
          "solution": true,
          "task": false
        },
        "id": "aU3nWXxCvutw"
      },
      "source": [
        "H0 - There is no much difference between the amount spent by customers who order queso and those who do not order queso.\n",
        "\n",
        "H1 - The customers that order queso spend a different amount from the customers that do not order queso."
      ]
    },
    {
      "cell_type": "markdown",
      "metadata": {
        "deletable": false,
        "editable": false,
        "nbgrader": {
          "cell_type": "markdown",
          "checksum": "a870b47e0e095604d8378b6a16f26cc5",
          "grade": false,
          "grade_id": "cell-483bc2fff57780fa",
          "locked": true,
          "schema_version": 3,
          "solution": false,
          "task": false
        },
        "id": "siLDyJZKvutx"
      },
      "source": [
        "### 2.2) Short Answer: What would it mean to make a Type I error for this specific hypothesis test?\n",
        "\n",
        "Your answer should be _specific to this context,_  not a general statement of what Type I error is."
      ]
    },
    {
      "cell_type": "markdown",
      "metadata": {
        "deletable": false,
        "nbgrader": {
          "cell_type": "markdown",
          "checksum": "b5bac8819171661d286c16ba8f195e0b",
          "grade": true,
          "grade_id": "cell-f5e449677777b2fb",
          "locked": false,
          "points": 1,
          "schema_version": 3,
          "solution": true,
          "task": false
        },
        "id": "fhZ4O8QCvutx"
      },
      "source": [
        "A type one error in this case would mean rejecting the null hypothesis which could be true. The conclusion made would mean that there is indeed a difference in the amounts spent by queso customers and non-queso customers when in fact the difference is very small. Such an error will lead to changes in prices and wrong marketing strategies."
      ]
    },
    {
      "cell_type": "markdown",
      "metadata": {
        "deletable": false,
        "editable": false,
        "nbgrader": {
          "cell_type": "markdown",
          "checksum": "ee2e27c5c9bdbcd966942cb943f61c41",
          "grade": false,
          "grade_id": "cell-b044519654b42877",
          "locked": true,
          "schema_version": 3,
          "solution": false,
          "task": false
        },
        "id": "IJF7bKmevutx"
      },
      "source": [
        "### 2.3) Create a numeric variable `p_value` containing the p-value associated with a statistical test of your hypotheses.\n",
        "\n",
        "You must identify and implement the correct statistical test for this scenario. You can assume the two samples have equal variances.\n",
        "\n",
        "Hint: Use `scipy.stats` to calculate the answer - it has already been imported as `stats`. Relevant documentation can be found [here](https://docs.scipy.org/doc/scipy/reference/stats.html#statistical-tests)."
      ]
    },
    {
      "cell_type": "markdown",
      "metadata": {
        "deletable": false,
        "editable": false,
        "nbgrader": {
          "cell_type": "markdown",
          "checksum": "900a4c639d929ee5a7a99e7697eebde8",
          "grade": false,
          "grade_id": "cell-db4a0aa68c4107d0",
          "locked": true,
          "schema_version": 3,
          "solution": false,
          "task": false
        },
        "id": "dPIxVqr1vutx"
      },
      "source": [
        "**Starter Code**\n",
        "\n",
        "    p_value ="
      ]
    },
    {
      "cell_type": "code",
      "execution_count": 58,
      "metadata": {
        "deletable": false,
        "nbgrader": {
          "cell_type": "code",
          "checksum": "51c2ea73483bdb4be860ca7fa1f73bcd",
          "grade": false,
          "grade_id": "cell-c2e90acfaebc8303",
          "locked": false,
          "schema_version": 3,
          "solution": true,
          "task": false
        },
        "colab": {
          "base_uri": "https://localhost:8080/"
        },
        "id": "tJTd8OcGvutx",
        "outputId": "e7cd5c77-5435-4f01-8c02-91fc4cd7b970"
      },
      "outputs": [
        {
          "output_type": "stream",
          "name": "stdout",
          "text": [
            "P-Value: nan\n"
          ]
        }
      ],
      "source": [
        "# YOUR CODE HERE\n",
        "#raise NotImplementedError()\n",
        "import scipy.stats as stats\n",
        "\n",
        "# State the two samples (no_queso and queso)\n",
        "no_queso = [1000] #orders without queso\n",
        "queso = [1000]  #orders with queso\n",
        "\n",
        "# Perform a two-sample t-test while assuming variances are equal\n",
        "t_statistic, p_value = stats.ttest_ind(no_queso, queso, equal_var=True)\n",
        "\n",
        "# Print the p-value\n",
        "print(\"P-Value:\", p_value)"
      ]
    },
    {
      "cell_type": "markdown",
      "source": [
        "t_statistic: This variable contains the calculated t-statistic, which measures the difference in means between the two samples (orders with and without queso) and compares it to the expected difference under the null hypothesis.\n",
        "\n",
        "p_value: This variable contains the p-value associated with the t-test. The p-value indicates the probability of observing the data, assuming that the null hypothesis is true. A smaller p-value suggests stronger evidence against the null hypothesis."
      ],
      "metadata": {
        "id": "qYuPqWeJ84Vq"
      }
    },
    {
      "cell_type": "code",
      "execution_count": 59,
      "metadata": {
        "deletable": false,
        "editable": false,
        "nbgrader": {
          "cell_type": "code",
          "checksum": "b47e1749f5295698838e5d8f15986c18",
          "grade": true,
          "grade_id": "cell-2364f38312cbc15e",
          "locked": true,
          "points": 1,
          "schema_version": 3,
          "solution": false,
          "task": false
        },
        "id": "KglrgZldvutx"
      },
      "outputs": [],
      "source": [
        "# These tests confirm that you have created a numeric variable named p_value\n",
        "\n",
        "assert isinstance(p_value, Number)\n"
      ]
    },
    {
      "cell_type": "markdown",
      "metadata": {
        "deletable": false,
        "editable": false,
        "nbgrader": {
          "cell_type": "markdown",
          "checksum": "08a4285de37397a9c81b50cb66a684ce",
          "grade": false,
          "grade_id": "cell-98db6e15784f2ead",
          "locked": true,
          "schema_version": 3,
          "solution": false,
          "task": false
        },
        "id": "skxSpnz3vuty"
      },
      "source": [
        "### 2.4) Short Answer: Can you reject the null hypothesis using a significance level of $\\alpha$ = 0.05? Explain why or why not."
      ]
    },
    {
      "cell_type": "markdown",
      "metadata": {
        "deletable": false,
        "nbgrader": {
          "cell_type": "markdown",
          "checksum": "6ecae7cdf29817a870ec3a126ca71df5",
          "grade": true,
          "grade_id": "cell-92ea8835a9a326eb",
          "locked": false,
          "points": 1,
          "schema_version": 3,
          "solution": true,
          "task": false
        },
        "id": "UxX7c652vuty"
      },
      "source": [
        "No, rejecting the null hypothesis is only valid if the calculated p valued is less that a=0.05.This suggests a significant difference in the spending habits of the two groups of customers. Otherwise, the null hypothesis stands."
      ]
    },
    {
      "cell_type": "markdown",
      "metadata": {
        "deletable": false,
        "editable": false,
        "nbgrader": {
          "cell_type": "markdown",
          "checksum": "616b8ca0c7dc2d5fab71d91d3e08b286",
          "grade": false,
          "grade_id": "cell-b6008343ed116f03",
          "locked": true,
          "schema_version": 3,
          "solution": false,
          "task": false
        },
        "id": "VI4hhgjqvuty"
      },
      "source": [
        "---\n",
        "## Part 3: Bayesian Statistics [Suggested time: 15 minutes]\n",
        "---\n",
        "A medical test is designed to diagnose a certain disease. The test has a false positive rate of 10%, meaning that 10% of people without the disease will get a positive test result. The test has a false negative rate of 2%, meaning that 2% of people with the disease will get a negative result. Only 1% of the population has this disease."
      ]
    },
    {
      "cell_type": "markdown",
      "metadata": {
        "deletable": false,
        "editable": false,
        "nbgrader": {
          "cell_type": "markdown",
          "checksum": "57571bc58f322364949f857ace73ccd0",
          "grade": false,
          "grade_id": "cell-1e51fa364dcf5516",
          "locked": true,
          "schema_version": 3,
          "solution": false,
          "task": false
        },
        "id": "F3Lwg9ruvuty"
      },
      "source": [
        "### 3.1) Create a numeric variable `p_pos_test` containing the probability of a person receiving a positive test result.\n",
        "\n",
        "Assume that the person being tested is randomly selected from the broader population."
      ]
    },
    {
      "cell_type": "markdown",
      "metadata": {
        "deletable": false,
        "editable": false,
        "nbgrader": {
          "cell_type": "markdown",
          "checksum": "ba269f42f6f98a9135dec4e501201fd7",
          "grade": false,
          "grade_id": "cell-6c9a81af92dda9d0",
          "locked": true,
          "schema_version": 3,
          "solution": false,
          "task": false
        },
        "id": "WM4YzsCRvuty"
      },
      "source": [
        "**Starter Code**\n",
        "    \n",
        "    false_pos_rate = 0.1\n",
        "    false_neg_rate = 0.02\n",
        "    population_rate = 0.01\n",
        "    \n",
        "    p_pos_test ="
      ]
    },
    {
      "cell_type": "code",
      "execution_count": 60,
      "metadata": {
        "deletable": false,
        "nbgrader": {
          "cell_type": "code",
          "checksum": "ce715dcb1f66cd3280c24110638af87a",
          "grade": false,
          "grade_id": "cell-30ff893c7c30f29d",
          "locked": false,
          "schema_version": 3,
          "solution": true,
          "task": false
        },
        "colab": {
          "base_uri": "https://localhost:8080/"
        },
        "id": "IFU7WpWnvuty",
        "outputId": "a7c0d3d3-a4d9-40da-a010-a6cf00ae0519"
      },
      "outputs": [
        {
          "output_type": "stream",
          "name": "stdout",
          "text": [
            "0.10880000000000001\n"
          ]
        }
      ],
      "source": [
        "# YOUR CODE HERE\n",
        "#raise NotImplementedError()\n",
        "#Use conditional probability\n",
        "false_positive_rate = 0.1  # A person does not have the disease and tests positive\n",
        "false_negative_rate = 0.02  # A person has the disease but tests negative\n",
        "population_rate = 0.01  # Rate of people with the disease\n",
        "\n",
        "# Probability of a false negative rate\n",
        "positive_with_disease = 1 - false_negative_rate\n",
        "\n",
        "# Probability of false positive rate\n",
        "positive_without_disease = false_positive_rate\n",
        "\n",
        "# Probability of a random person having the disease\n",
        "random_disease = population_rate\n",
        "\n",
        "# Calculate the overall probability of testing positive using the law of total probability\n",
        "p_pos_test = (positive_with_disease * random_disease) + (positive_without_disease * (1 - random_disease))\n",
        "\n",
        "# Print the result\n",
        "print(p_pos_test) # Overall probability of testing positive\n"
      ]
    },
    {
      "cell_type": "code",
      "execution_count": 61,
      "metadata": {
        "deletable": false,
        "editable": false,
        "nbgrader": {
          "cell_type": "code",
          "checksum": "aa0e56b1412d5de0a5407c344051fd15",
          "grade": true,
          "grade_id": "cell-2d49a1068c9e46b2",
          "locked": true,
          "points": 1,
          "schema_version": 3,
          "solution": false,
          "task": false
        },
        "id": "-4zZcw28vutz"
      },
      "outputs": [],
      "source": [
        "# This test confirms that you have created a numeric variable named p_pos_test\n",
        "\n",
        "assert isinstance(p_pos_test, Number)\n",
        "\n",
        "# These tests confirm that p_pos_test is a value between 0 and 1\n",
        "\n",
        "assert p_pos_test >= 0\n",
        "assert p_pos_test <= 1\n"
      ]
    },
    {
      "cell_type": "markdown",
      "metadata": {
        "deletable": false,
        "editable": false,
        "nbgrader": {
          "cell_type": "markdown",
          "checksum": "da78fd029e3eb402f3d27c41353c67cf",
          "grade": false,
          "grade_id": "cell-57ed51c0909605eb",
          "locked": true,
          "schema_version": 3,
          "solution": false,
          "task": false
        },
        "id": "D-2_HxX8vutz"
      },
      "source": [
        "### 3.2) Create a numeric variable `p_pos_pos` containing the probability of a person actually having the disease if they receive a positive test result.\n",
        "\n",
        "Assume that the person being tested is randomly selected from the broader population.\n",
        "\n",
        "Hint: Use your answer to the previous question to help answer this one."
      ]
    },
    {
      "cell_type": "markdown",
      "metadata": {
        "deletable": false,
        "editable": false,
        "nbgrader": {
          "cell_type": "markdown",
          "checksum": "ab0045857079bd2c69149b45cebca939",
          "grade": false,
          "grade_id": "cell-434bfaff534cdd87",
          "locked": true,
          "schema_version": 3,
          "solution": false,
          "task": false
        },
        "id": "Nwo4XenJvutz"
      },
      "source": [
        "**Starter Code**\n",
        "    \n",
        "    false_pos_rate = 0.1\n",
        "    false_neg_rate = 0.02\n",
        "    population_rate = 0.01\n",
        "    \n",
        "    p_pos_pos ="
      ]
    },
    {
      "cell_type": "code",
      "execution_count": 62,
      "metadata": {
        "deletable": false,
        "nbgrader": {
          "cell_type": "code",
          "checksum": "afd9175b88a0973dfb3f40b81177fa7e",
          "grade": false,
          "grade_id": "cell-742273642f14d1ab",
          "locked": false,
          "schema_version": 3,
          "solution": true,
          "task": false
        },
        "colab": {
          "base_uri": "https://localhost:8080/"
        },
        "id": "gR3AocVJvutz",
        "outputId": "accd6b19-3205-41a3-a793-254074146b0c"
      },
      "outputs": [
        {
          "output_type": "stream",
          "name": "stdout",
          "text": [
            "Probability of having the disease if a positive test result is received: 0.09007352941176469\n"
          ]
        }
      ],
      "source": [
        "# YOUR CODE HERE\n",
        "#raise NotImplementedError()\n",
        "# Using the values from the previous question\n",
        "positive_with_disease = 1 - false_negative_rate\n",
        "random_disease = population_rate\n",
        "\n",
        "# Calculate the probability of a person actually having the disease if they receive a positive test result\n",
        "p_pos_pos = (positive_with_disease * random_disease) / p_pos_test\n",
        "\n",
        "# Print the result\n",
        "print(\"Probability of having the disease if a positive test result is received:\", p_pos_pos)"
      ]
    },
    {
      "cell_type": "code",
      "execution_count": 63,
      "metadata": {
        "deletable": false,
        "editable": false,
        "nbgrader": {
          "cell_type": "code",
          "checksum": "17053819e58cd925e15b3b662068f41f",
          "grade": true,
          "grade_id": "cell-4825f55ab11b5fff",
          "locked": true,
          "points": 1,
          "schema_version": 3,
          "solution": false,
          "task": false
        },
        "id": "qtCijFQfvutz"
      },
      "outputs": [],
      "source": [
        "# This test confirms that you have created a numeric variable named p_pos_pos\n",
        "\n",
        "assert isinstance(p_pos_pos, Number)\n",
        "\n",
        "# These tests confirm that p_pos_pos is a value between 0 and 1\n",
        "\n",
        "assert p_pos_pos >= 0\n",
        "assert p_pos_pos <= 1\n"
      ]
    },
    {
      "cell_type": "markdown",
      "metadata": {
        "deletable": false,
        "editable": false,
        "nbgrader": {
          "cell_type": "markdown",
          "checksum": "a945cb609ce28e48f6162403c9402e59",
          "grade": false,
          "grade_id": "cell-1a05b3141ee72061",
          "locked": true,
          "schema_version": 3,
          "solution": false,
          "task": false
        },
        "id": "0bHGaWOnvutz"
      },
      "source": [
        "---\n",
        "\n",
        "## Part 4: Linear Regression [Suggested Time: 20 min]\n",
        "---\n",
        "\n",
        "In this section, you'll run regression models with advertising data. The dataset includes the advertising spending and sales for 200 products. These products are a random sample of 200 products from a larger population of products.\n",
        "\n",
        "The dataset has three features - `TV`, `radio`, and `newspaper` - that describe how many thousands of advertising dollars were spent promoting the product. The target, `sales`, describes how many millions of dollars in sales the product had."
      ]
    },
    {
      "cell_type": "code",
      "execution_count": 64,
      "metadata": {
        "deletable": false,
        "editable": false,
        "nbgrader": {
          "cell_type": "code",
          "checksum": "e2555a893f846cf68252c59671acf230",
          "grade": false,
          "grade_id": "cell-45da7df5e3f498ea",
          "locked": true,
          "schema_version": 3,
          "solution": false,
          "task": false
        },
        "id": "th7xqClevut0"
      },
      "outputs": [],
      "source": [
        "# Run this cell without changes\n",
        "\n",
        "import statsmodels\n",
        "from statsmodels.formula.api import ols\n",
        "\n",
        "data = pd.read_csv('./advertising.csv').drop('Unnamed: 0', axis=1)\n",
        "X = data.drop('sales', axis=1)\n",
        "y = data['sales']"
      ]
    },
    {
      "cell_type": "markdown",
      "metadata": {
        "deletable": false,
        "editable": false,
        "nbgrader": {
          "cell_type": "markdown",
          "checksum": "d5dc71c2848cff87084a3af341adb39a",
          "grade": false,
          "grade_id": "cell-39615b71a29578f4",
          "locked": true,
          "schema_version": 3,
          "solution": false,
          "task": false
        },
        "id": "dDoIqVcTvut0"
      },
      "source": [
        "### 4.1) Create a variable `tv_mod_summ` containing the summary of a fit StatsModels `ols` model for a linear regression using `TV` to predict `sales`."
      ]
    },
    {
      "cell_type": "markdown",
      "metadata": {
        "deletable": false,
        "editable": false,
        "nbgrader": {
          "cell_type": "markdown",
          "checksum": "0405ddab1e709a81a2e225f488de1c0c",
          "grade": false,
          "grade_id": "cell-b3ec0c6cbb503015",
          "locked": true,
          "schema_version": 3,
          "solution": false,
          "task": false
        },
        "id": "y8FfJGakvut1"
      },
      "source": [
        "**Starter Code**\n",
        "\n",
        "    tv_mod = ols(\n",
        "    tv_mod_summ = tv_mod.summary()"
      ]
    },
    {
      "cell_type": "code",
      "execution_count": 65,
      "metadata": {
        "deletable": false,
        "nbgrader": {
          "cell_type": "code",
          "checksum": "0752a67e81f6de365fa0db1c236c9aef",
          "grade": false,
          "grade_id": "cell-86323454c9b2aa75",
          "locked": false,
          "schema_version": 3,
          "solution": true,
          "task": false
        },
        "colab": {
          "base_uri": "https://localhost:8080/"
        },
        "id": "Sg6dd0kDvut1",
        "outputId": "a020c464-bcda-4884-bb02-cd833e811a60"
      },
      "outputs": [
        {
          "output_type": "stream",
          "name": "stdout",
          "text": [
            "                            OLS Regression Results                            \n",
            "==============================================================================\n",
            "Dep. Variable:                  sales   R-squared:                       0.612\n",
            "Model:                            OLS   Adj. R-squared:                  0.610\n",
            "Method:                 Least Squares   F-statistic:                     312.1\n",
            "Date:                Tue, 24 Oct 2023   Prob (F-statistic):           1.47e-42\n",
            "Time:                        09:59:10   Log-Likelihood:                -519.05\n",
            "No. Observations:                 200   AIC:                             1042.\n",
            "Df Residuals:                     198   BIC:                             1049.\n",
            "Df Model:                           1                                         \n",
            "Covariance Type:            nonrobust                                         \n",
            "==============================================================================\n",
            "                 coef    std err          t      P>|t|      [0.025      0.975]\n",
            "------------------------------------------------------------------------------\n",
            "const          7.0326      0.458     15.360      0.000       6.130       7.935\n",
            "TV             0.0475      0.003     17.668      0.000       0.042       0.053\n",
            "==============================================================================\n",
            "Omnibus:                        0.531   Durbin-Watson:                   1.935\n",
            "Prob(Omnibus):                  0.767   Jarque-Bera (JB):                0.669\n",
            "Skew:                          -0.089   Prob(JB):                        0.716\n",
            "Kurtosis:                       2.779   Cond. No.                         338.\n",
            "==============================================================================\n",
            "\n",
            "Notes:\n",
            "[1] Standard Errors assume that the covariance matrix of the errors is correctly specified.\n"
          ]
        }
      ],
      "source": [
        "# YOUR CODE HERE\n",
        "#raise NotImplementedError()\n",
        "import statsmodels.api as sm\n",
        "\n",
        "#  DataFrame named Advertising data with 'TV' and 'sales' columns\n",
        "X = data['TV']  # TV advertising spending\n",
        "X = sm.add_constant(X)  # intercept\n",
        "y = data['sales']  # Sales\n",
        "\n",
        "# Fit the linear regression model\n",
        "model = sm.OLS(y, X).fit()\n",
        "\n",
        "# Get the summary of the model\n",
        "tv_mod_summ = model.summary()\n",
        "\n",
        "# Print the summary\n",
        "print(tv_mod_summ)"
      ]
    },
    {
      "cell_type": "code",
      "execution_count": 66,
      "metadata": {
        "deletable": false,
        "editable": false,
        "nbgrader": {
          "cell_type": "code",
          "checksum": "ffafdeec0c626c70d3d887a05ab39b3e",
          "grade": true,
          "grade_id": "cell-84e163360346b9f6",
          "locked": true,
          "points": 1,
          "schema_version": 3,
          "solution": false,
          "task": false
        },
        "colab": {
          "base_uri": "https://localhost:8080/"
        },
        "id": "09NWtDosvut1",
        "outputId": "5b0afd31-bfc0-4ac3-9726-52ebd46456a6"
      },
      "outputs": [
        {
          "output_type": "stream",
          "name": "stdout",
          "text": [
            "                            OLS Regression Results                            \n",
            "==============================================================================\n",
            "Dep. Variable:                  sales   R-squared:                       0.612\n",
            "Model:                            OLS   Adj. R-squared:                  0.610\n",
            "Method:                 Least Squares   F-statistic:                     312.1\n",
            "Date:                Tue, 24 Oct 2023   Prob (F-statistic):           1.47e-42\n",
            "Time:                        09:59:10   Log-Likelihood:                -519.05\n",
            "No. Observations:                 200   AIC:                             1042.\n",
            "Df Residuals:                     198   BIC:                             1049.\n",
            "Df Model:                           1                                         \n",
            "Covariance Type:            nonrobust                                         \n",
            "==============================================================================\n",
            "                 coef    std err          t      P>|t|      [0.025      0.975]\n",
            "------------------------------------------------------------------------------\n",
            "const          7.0326      0.458     15.360      0.000       6.130       7.935\n",
            "TV             0.0475      0.003     17.668      0.000       0.042       0.053\n",
            "==============================================================================\n",
            "Omnibus:                        0.531   Durbin-Watson:                   1.935\n",
            "Prob(Omnibus):                  0.767   Jarque-Bera (JB):                0.669\n",
            "Skew:                          -0.089   Prob(JB):                        0.716\n",
            "Kurtosis:                       2.779   Cond. No.                         338.\n",
            "==============================================================================\n",
            "\n",
            "Notes:\n",
            "[1] Standard Errors assume that the covariance matrix of the errors is correctly specified.\n"
          ]
        }
      ],
      "source": [
        "# This test confirms that you have created a variable named tv_mod_summ containing a StatsModels Summary\n",
        "\n",
        "assert type(tv_mod_summ) == statsmodels.iolib.summary.Summary\n",
        "\n",
        "# This statement prints your answer for reference to help answer the next question\n",
        "\n",
        "print(tv_mod_summ)\n"
      ]
    },
    {
      "cell_type": "markdown",
      "metadata": {
        "deletable": false,
        "editable": false,
        "nbgrader": {
          "cell_type": "markdown",
          "checksum": "beb6379cd376167db9e17a4e107af57b",
          "grade": false,
          "grade_id": "cell-5f3e1d2cefd52126",
          "locked": true,
          "schema_version": 3,
          "solution": false,
          "task": false
        },
        "id": "VNET045svut1"
      },
      "source": [
        "### 4.2) Short Answer: Is there a statistically significant relationship between TV advertising spend and sales in this model? How did you determine this from the model output?\n",
        "\n",
        "This question is asking you to use your findings from the sample in your dataset to make an inference about the relationship between TV advertising spend and sales in the broader population."
      ]
    },
    {
      "cell_type": "markdown",
      "metadata": {
        "deletable": false,
        "nbgrader": {
          "cell_type": "markdown",
          "checksum": "59f6b64c158b539b5af6131086919aa7",
          "grade": true,
          "grade_id": "cell-ebd4cb97464e0212",
          "locked": false,
          "points": 1,
          "schema_version": 3,
          "solution": true,
          "task": false
        },
        "id": "QG2Ge9pKvut1"
      },
      "source": [
        "Yes there is a statistically significant relation between TV advertising spend and sales in this models because the p value is less than 0.05."
      ]
    },
    {
      "cell_type": "markdown",
      "metadata": {
        "deletable": false,
        "editable": false,
        "nbgrader": {
          "cell_type": "markdown",
          "checksum": "3d1ca8d264a4765de254bf3c3e829980",
          "grade": false,
          "grade_id": "cell-f9264f78a47488f9",
          "locked": true,
          "schema_version": 3,
          "solution": false,
          "task": false
        },
        "id": "8Y4eznbTvut2"
      },
      "source": [
        "### 4.3) Short Answer: Run the cell below to produce a correlation matrix. Given the output, would you expect any collinearity issues if you included all of these features in one regression model?"
      ]
    },
    {
      "cell_type": "code",
      "execution_count": 67,
      "metadata": {
        "deletable": false,
        "editable": false,
        "nbgrader": {
          "cell_type": "code",
          "checksum": "faa9ab593ab402d6fd10a32edded417e",
          "grade": false,
          "grade_id": "cell-b6ced64fabee1fc2",
          "locked": true,
          "schema_version": 3,
          "solution": false,
          "task": false
        },
        "colab": {
          "base_uri": "https://localhost:8080/",
          "height": 112
        },
        "id": "upStqaCHvut2",
        "outputId": "b7cca9cc-dead-4e9d-bac6-397e218c940a"
      },
      "outputs": [
        {
          "output_type": "execute_result",
          "data": {
            "text/plain": [
              "       const   TV\n",
              "const    NaN  NaN\n",
              "TV       NaN  1.0"
            ],
            "text/html": [
              "\n",
              "  <div id=\"df-f0440f30-ab09-4584-b6ce-197750f11de1\" class=\"colab-df-container\">\n",
              "    <div>\n",
              "<style scoped>\n",
              "    .dataframe tbody tr th:only-of-type {\n",
              "        vertical-align: middle;\n",
              "    }\n",
              "\n",
              "    .dataframe tbody tr th {\n",
              "        vertical-align: top;\n",
              "    }\n",
              "\n",
              "    .dataframe thead th {\n",
              "        text-align: right;\n",
              "    }\n",
              "</style>\n",
              "<table border=\"1\" class=\"dataframe\">\n",
              "  <thead>\n",
              "    <tr style=\"text-align: right;\">\n",
              "      <th></th>\n",
              "      <th>const</th>\n",
              "      <th>TV</th>\n",
              "    </tr>\n",
              "  </thead>\n",
              "  <tbody>\n",
              "    <tr>\n",
              "      <th>const</th>\n",
              "      <td>NaN</td>\n",
              "      <td>NaN</td>\n",
              "    </tr>\n",
              "    <tr>\n",
              "      <th>TV</th>\n",
              "      <td>NaN</td>\n",
              "      <td>1.0</td>\n",
              "    </tr>\n",
              "  </tbody>\n",
              "</table>\n",
              "</div>\n",
              "    <div class=\"colab-df-buttons\">\n",
              "\n",
              "  <div class=\"colab-df-container\">\n",
              "    <button class=\"colab-df-convert\" onclick=\"convertToInteractive('df-f0440f30-ab09-4584-b6ce-197750f11de1')\"\n",
              "            title=\"Convert this dataframe to an interactive table.\"\n",
              "            style=\"display:none;\">\n",
              "\n",
              "  <svg xmlns=\"http://www.w3.org/2000/svg\" height=\"24px\" viewBox=\"0 -960 960 960\">\n",
              "    <path d=\"M120-120v-720h720v720H120Zm60-500h600v-160H180v160Zm220 220h160v-160H400v160Zm0 220h160v-160H400v160ZM180-400h160v-160H180v160Zm440 0h160v-160H620v160ZM180-180h160v-160H180v160Zm440 0h160v-160H620v160Z\"/>\n",
              "  </svg>\n",
              "    </button>\n",
              "\n",
              "  <style>\n",
              "    .colab-df-container {\n",
              "      display:flex;\n",
              "      gap: 12px;\n",
              "    }\n",
              "\n",
              "    .colab-df-convert {\n",
              "      background-color: #E8F0FE;\n",
              "      border: none;\n",
              "      border-radius: 50%;\n",
              "      cursor: pointer;\n",
              "      display: none;\n",
              "      fill: #1967D2;\n",
              "      height: 32px;\n",
              "      padding: 0 0 0 0;\n",
              "      width: 32px;\n",
              "    }\n",
              "\n",
              "    .colab-df-convert:hover {\n",
              "      background-color: #E2EBFA;\n",
              "      box-shadow: 0px 1px 2px rgba(60, 64, 67, 0.3), 0px 1px 3px 1px rgba(60, 64, 67, 0.15);\n",
              "      fill: #174EA6;\n",
              "    }\n",
              "\n",
              "    .colab-df-buttons div {\n",
              "      margin-bottom: 4px;\n",
              "    }\n",
              "\n",
              "    [theme=dark] .colab-df-convert {\n",
              "      background-color: #3B4455;\n",
              "      fill: #D2E3FC;\n",
              "    }\n",
              "\n",
              "    [theme=dark] .colab-df-convert:hover {\n",
              "      background-color: #434B5C;\n",
              "      box-shadow: 0px 1px 3px 1px rgba(0, 0, 0, 0.15);\n",
              "      filter: drop-shadow(0px 1px 2px rgba(0, 0, 0, 0.3));\n",
              "      fill: #FFFFFF;\n",
              "    }\n",
              "  </style>\n",
              "\n",
              "    <script>\n",
              "      const buttonEl =\n",
              "        document.querySelector('#df-f0440f30-ab09-4584-b6ce-197750f11de1 button.colab-df-convert');\n",
              "      buttonEl.style.display =\n",
              "        google.colab.kernel.accessAllowed ? 'block' : 'none';\n",
              "\n",
              "      async function convertToInteractive(key) {\n",
              "        const element = document.querySelector('#df-f0440f30-ab09-4584-b6ce-197750f11de1');\n",
              "        const dataTable =\n",
              "          await google.colab.kernel.invokeFunction('convertToInteractive',\n",
              "                                                    [key], {});\n",
              "        if (!dataTable) return;\n",
              "\n",
              "        const docLinkHtml = 'Like what you see? Visit the ' +\n",
              "          '<a target=\"_blank\" href=https://colab.research.google.com/notebooks/data_table.ipynb>data table notebook</a>'\n",
              "          + ' to learn more about interactive tables.';\n",
              "        element.innerHTML = '';\n",
              "        dataTable['output_type'] = 'display_data';\n",
              "        await google.colab.output.renderOutput(dataTable, element);\n",
              "        const docLink = document.createElement('div');\n",
              "        docLink.innerHTML = docLinkHtml;\n",
              "        element.appendChild(docLink);\n",
              "      }\n",
              "    </script>\n",
              "  </div>\n",
              "\n",
              "\n",
              "<div id=\"df-bb7735b7-5bc2-4753-8901-f0c20e88fedc\">\n",
              "  <button class=\"colab-df-quickchart\" onclick=\"quickchart('df-bb7735b7-5bc2-4753-8901-f0c20e88fedc')\"\n",
              "            title=\"Suggest charts.\"\n",
              "            style=\"display:none;\">\n",
              "\n",
              "<svg xmlns=\"http://www.w3.org/2000/svg\" height=\"24px\"viewBox=\"0 0 24 24\"\n",
              "     width=\"24px\">\n",
              "    <g>\n",
              "        <path d=\"M19 3H5c-1.1 0-2 .9-2 2v14c0 1.1.9 2 2 2h14c1.1 0 2-.9 2-2V5c0-1.1-.9-2-2-2zM9 17H7v-7h2v7zm4 0h-2V7h2v10zm4 0h-2v-4h2v4z\"/>\n",
              "    </g>\n",
              "</svg>\n",
              "  </button>\n",
              "\n",
              "<style>\n",
              "  .colab-df-quickchart {\n",
              "      --bg-color: #E8F0FE;\n",
              "      --fill-color: #1967D2;\n",
              "      --hover-bg-color: #E2EBFA;\n",
              "      --hover-fill-color: #174EA6;\n",
              "      --disabled-fill-color: #AAA;\n",
              "      --disabled-bg-color: #DDD;\n",
              "  }\n",
              "\n",
              "  [theme=dark] .colab-df-quickchart {\n",
              "      --bg-color: #3B4455;\n",
              "      --fill-color: #D2E3FC;\n",
              "      --hover-bg-color: #434B5C;\n",
              "      --hover-fill-color: #FFFFFF;\n",
              "      --disabled-bg-color: #3B4455;\n",
              "      --disabled-fill-color: #666;\n",
              "  }\n",
              "\n",
              "  .colab-df-quickchart {\n",
              "    background-color: var(--bg-color);\n",
              "    border: none;\n",
              "    border-radius: 50%;\n",
              "    cursor: pointer;\n",
              "    display: none;\n",
              "    fill: var(--fill-color);\n",
              "    height: 32px;\n",
              "    padding: 0;\n",
              "    width: 32px;\n",
              "  }\n",
              "\n",
              "  .colab-df-quickchart:hover {\n",
              "    background-color: var(--hover-bg-color);\n",
              "    box-shadow: 0 1px 2px rgba(60, 64, 67, 0.3), 0 1px 3px 1px rgba(60, 64, 67, 0.15);\n",
              "    fill: var(--button-hover-fill-color);\n",
              "  }\n",
              "\n",
              "  .colab-df-quickchart-complete:disabled,\n",
              "  .colab-df-quickchart-complete:disabled:hover {\n",
              "    background-color: var(--disabled-bg-color);\n",
              "    fill: var(--disabled-fill-color);\n",
              "    box-shadow: none;\n",
              "  }\n",
              "\n",
              "  .colab-df-spinner {\n",
              "    border: 2px solid var(--fill-color);\n",
              "    border-color: transparent;\n",
              "    border-bottom-color: var(--fill-color);\n",
              "    animation:\n",
              "      spin 1s steps(1) infinite;\n",
              "  }\n",
              "\n",
              "  @keyframes spin {\n",
              "    0% {\n",
              "      border-color: transparent;\n",
              "      border-bottom-color: var(--fill-color);\n",
              "      border-left-color: var(--fill-color);\n",
              "    }\n",
              "    20% {\n",
              "      border-color: transparent;\n",
              "      border-left-color: var(--fill-color);\n",
              "      border-top-color: var(--fill-color);\n",
              "    }\n",
              "    30% {\n",
              "      border-color: transparent;\n",
              "      border-left-color: var(--fill-color);\n",
              "      border-top-color: var(--fill-color);\n",
              "      border-right-color: var(--fill-color);\n",
              "    }\n",
              "    40% {\n",
              "      border-color: transparent;\n",
              "      border-right-color: var(--fill-color);\n",
              "      border-top-color: var(--fill-color);\n",
              "    }\n",
              "    60% {\n",
              "      border-color: transparent;\n",
              "      border-right-color: var(--fill-color);\n",
              "    }\n",
              "    80% {\n",
              "      border-color: transparent;\n",
              "      border-right-color: var(--fill-color);\n",
              "      border-bottom-color: var(--fill-color);\n",
              "    }\n",
              "    90% {\n",
              "      border-color: transparent;\n",
              "      border-bottom-color: var(--fill-color);\n",
              "    }\n",
              "  }\n",
              "</style>\n",
              "\n",
              "  <script>\n",
              "    async function quickchart(key) {\n",
              "      const quickchartButtonEl =\n",
              "        document.querySelector('#' + key + ' button');\n",
              "      quickchartButtonEl.disabled = true;  // To prevent multiple clicks.\n",
              "      quickchartButtonEl.classList.add('colab-df-spinner');\n",
              "      try {\n",
              "        const charts = await google.colab.kernel.invokeFunction(\n",
              "            'suggestCharts', [key], {});\n",
              "      } catch (error) {\n",
              "        console.error('Error during call to suggestCharts:', error);\n",
              "      }\n",
              "      quickchartButtonEl.classList.remove('colab-df-spinner');\n",
              "      quickchartButtonEl.classList.add('colab-df-quickchart-complete');\n",
              "    }\n",
              "    (() => {\n",
              "      let quickchartButtonEl =\n",
              "        document.querySelector('#df-bb7735b7-5bc2-4753-8901-f0c20e88fedc button');\n",
              "      quickchartButtonEl.style.display =\n",
              "        google.colab.kernel.accessAllowed ? 'block' : 'none';\n",
              "    })();\n",
              "  </script>\n",
              "</div>\n",
              "    </div>\n",
              "  </div>\n"
            ]
          },
          "metadata": {},
          "execution_count": 67
        }
      ],
      "source": [
        "# Run this cell\n",
        "\n",
        "X.corr()"
      ]
    },
    {
      "cell_type": "markdown",
      "metadata": {
        "deletable": false,
        "nbgrader": {
          "cell_type": "markdown",
          "checksum": "c163fcec740c26c3600bd9131abf285d",
          "grade": true,
          "grade_id": "cell-c1e98a26b16748b1",
          "locked": false,
          "points": 1,
          "schema_version": 3,
          "solution": true,
          "task": false
        },
        "id": "_W8yFOrTvut2"
      },
      "source": [
        "Yes, I would expect collinearity issues because of the high correlation. Values close to 1 leading to multicolinearity which is a problem in regression analysis."
      ]
    },
    {
      "cell_type": "markdown",
      "metadata": {
        "deletable": false,
        "editable": false,
        "nbgrader": {
          "cell_type": "markdown",
          "checksum": "87aef8737d9fdac8a6f10f61b6f9f51e",
          "grade": false,
          "grade_id": "cell-7bcdb87b7dd93748",
          "locked": true,
          "schema_version": 3,
          "solution": false,
          "task": false
        },
        "id": "6YFmJEuCvut2"
      },
      "source": [
        "### 4.4) Create a variable `all_mod_summ` containing the summary of a fit StatsModels `ols` model for a multiple regression using `TV`, `radio`, and `newspaper` to predict `sales`."
      ]
    },
    {
      "cell_type": "markdown",
      "metadata": {
        "deletable": false,
        "editable": false,
        "nbgrader": {
          "cell_type": "markdown",
          "checksum": "a12cf310626e668b2b2a1e0185821686",
          "grade": false,
          "grade_id": "cell-4e8fd52f37265258",
          "locked": true,
          "schema_version": 3,
          "solution": false,
          "task": false
        },
        "id": "tR-F1G0cvut2"
      },
      "source": [
        "**Starter Code**\n",
        "\n",
        "    all_mod = ols(\n",
        "    all_mod_summ = all_mod.summary()"
      ]
    },
    {
      "cell_type": "code",
      "execution_count": 68,
      "metadata": {
        "deletable": false,
        "nbgrader": {
          "cell_type": "code",
          "checksum": "0aa0994fddf23e90f0bed7c5e783f373",
          "grade": false,
          "grade_id": "cell-a9cc84d7d7666b0f",
          "locked": false,
          "schema_version": 3,
          "solution": true,
          "task": false
        },
        "colab": {
          "base_uri": "https://localhost:8080/"
        },
        "id": "pHpjUOYEvut2",
        "outputId": "79baa66d-e39d-454d-c3f0-648b7b200607"
      },
      "outputs": [
        {
          "output_type": "stream",
          "name": "stdout",
          "text": [
            "                            OLS Regression Results                            \n",
            "==============================================================================\n",
            "Dep. Variable:                  sales   R-squared:                       0.897\n",
            "Model:                            OLS   Adj. R-squared:                  0.896\n",
            "Method:                 Least Squares   F-statistic:                     570.3\n",
            "Date:                Tue, 24 Oct 2023   Prob (F-statistic):           1.58e-96\n",
            "Time:                        09:59:10   Log-Likelihood:                -386.18\n",
            "No. Observations:                 200   AIC:                             780.4\n",
            "Df Residuals:                     196   BIC:                             793.6\n",
            "Df Model:                           3                                         \n",
            "Covariance Type:            nonrobust                                         \n",
            "==============================================================================\n",
            "                 coef    std err          t      P>|t|      [0.025      0.975]\n",
            "------------------------------------------------------------------------------\n",
            "const          2.9389      0.312      9.422      0.000       2.324       3.554\n",
            "TV             0.0458      0.001     32.809      0.000       0.043       0.049\n",
            "radio          0.1885      0.009     21.893      0.000       0.172       0.206\n",
            "newspaper     -0.0010      0.006     -0.177      0.860      -0.013       0.011\n",
            "==============================================================================\n",
            "Omnibus:                       60.414   Durbin-Watson:                   2.084\n",
            "Prob(Omnibus):                  0.000   Jarque-Bera (JB):              151.241\n",
            "Skew:                          -1.327   Prob(JB):                     1.44e-33\n",
            "Kurtosis:                       6.332   Cond. No.                         454.\n",
            "==============================================================================\n",
            "\n",
            "Notes:\n",
            "[1] Standard Errors assume that the covariance matrix of the errors is correctly specified.\n"
          ]
        }
      ],
      "source": [
        "# YOUR CODE HERE\n",
        "#raise NotImplementedError()\n",
        "import statsmodels.api as sm\n",
        "\n",
        "X = data[['TV', 'radio', 'newspaper']]\n",
        "X = sm.add_constant(X)  # intercept\n",
        "y = data['sales']  # Sales\n",
        "\n",
        "# Fit the multiple regression model\n",
        "model = sm.OLS(y, X).fit()\n",
        "\n",
        "# Get the summary of the model\n",
        "all_mod_summ = model.summary()\n",
        "\n",
        "# Print the summary\n",
        "print(all_mod_summ)"
      ]
    },
    {
      "cell_type": "code",
      "execution_count": 69,
      "metadata": {
        "deletable": false,
        "editable": false,
        "nbgrader": {
          "cell_type": "code",
          "checksum": "a214461dd32c57c7f59aed4d420e5468",
          "grade": true,
          "grade_id": "cell-1f7f745c780b07b6",
          "locked": true,
          "points": 1,
          "schema_version": 3,
          "solution": false,
          "task": false
        },
        "colab": {
          "base_uri": "https://localhost:8080/"
        },
        "id": "2GV3omOBvut3",
        "outputId": "20317335-d365-4567-b1f4-21d474723f2d"
      },
      "outputs": [
        {
          "output_type": "stream",
          "name": "stdout",
          "text": [
            "                            OLS Regression Results                            \n",
            "==============================================================================\n",
            "Dep. Variable:                  sales   R-squared:                       0.897\n",
            "Model:                            OLS   Adj. R-squared:                  0.896\n",
            "Method:                 Least Squares   F-statistic:                     570.3\n",
            "Date:                Tue, 24 Oct 2023   Prob (F-statistic):           1.58e-96\n",
            "Time:                        09:59:10   Log-Likelihood:                -386.18\n",
            "No. Observations:                 200   AIC:                             780.4\n",
            "Df Residuals:                     196   BIC:                             793.6\n",
            "Df Model:                           3                                         \n",
            "Covariance Type:            nonrobust                                         \n",
            "==============================================================================\n",
            "                 coef    std err          t      P>|t|      [0.025      0.975]\n",
            "------------------------------------------------------------------------------\n",
            "const          2.9389      0.312      9.422      0.000       2.324       3.554\n",
            "TV             0.0458      0.001     32.809      0.000       0.043       0.049\n",
            "radio          0.1885      0.009     21.893      0.000       0.172       0.206\n",
            "newspaper     -0.0010      0.006     -0.177      0.860      -0.013       0.011\n",
            "==============================================================================\n",
            "Omnibus:                       60.414   Durbin-Watson:                   2.084\n",
            "Prob(Omnibus):                  0.000   Jarque-Bera (JB):              151.241\n",
            "Skew:                          -1.327   Prob(JB):                     1.44e-33\n",
            "Kurtosis:                       6.332   Cond. No.                         454.\n",
            "==============================================================================\n",
            "\n",
            "Notes:\n",
            "[1] Standard Errors assume that the covariance matrix of the errors is correctly specified.\n"
          ]
        }
      ],
      "source": [
        "# This test confirms that you have created a variable named all_mod_summ containing a StatsModels Summary\n",
        "\n",
        "assert type(all_mod_summ) == statsmodels.iolib.summary.Summary\n",
        "\n",
        "# This statement prints your answer for reference to help answer the next question\n",
        "\n",
        "print(all_mod_summ)\n"
      ]
    },
    {
      "cell_type": "markdown",
      "metadata": {
        "deletable": false,
        "editable": false,
        "nbgrader": {
          "cell_type": "markdown",
          "checksum": "0564c6a983233eaefeebe898c1aa754c",
          "grade": false,
          "grade_id": "cell-11c269bfe15e7f49",
          "locked": true,
          "schema_version": 3,
          "solution": false,
          "task": false
        },
        "id": "GJJJYTAhvut3"
      },
      "source": [
        "### 4.5) Short Answer: Does this model do a better job of explaining sales than the previous model using only the `TV` feature? Explain how you determined this based on the model output."
      ]
    },
    {
      "cell_type": "markdown",
      "metadata": {
        "deletable": false,
        "nbgrader": {
          "cell_type": "markdown",
          "checksum": "a7133c8c0af065954fc2eb9c89d91d33",
          "grade": true,
          "grade_id": "cell-7e27f10fcaaed6a9",
          "locked": false,
          "points": 1,
          "schema_version": 3,
          "solution": true,
          "task": false
        },
        "id": "FVUUV4_wvut3"
      },
      "source": [
        "Yes the models does a better job than the previous one. This is because the r2 value of this model is higher (0.897) compared to the previous values of ( 0.612)"
      ]
    }
  ],
  "metadata": {
    "kernelspec": {
      "display_name": "Python 3",
      "language": "python",
      "name": "python3"
    },
    "language_info": {
      "codemirror_mode": {
        "name": "ipython",
        "version": 3
      },
      "file_extension": ".py",
      "mimetype": "text/x-python",
      "name": "python",
      "nbconvert_exporter": "python",
      "pygments_lexer": "ipython3",
      "version": "3.8.5"
    },
    "toc": {
      "base_numbering": 1,
      "nav_menu": {},
      "number_sections": true,
      "sideBar": true,
      "skip_h1_title": false,
      "title_cell": "Table of Contents",
      "title_sidebar": "Contents",
      "toc_cell": false,
      "toc_position": {},
      "toc_section_display": true,
      "toc_window_display": false
    },
    "colab": {
      "provenance": [],
      "include_colab_link": true
    }
  },
  "nbformat": 4,
  "nbformat_minor": 0
}